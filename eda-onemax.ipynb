{
  "nbformat": 4,
  "nbformat_minor": 0,
  "metadata": {
    "colab": {
      "name": "eda-onemax.ipynb",
      "provenance": []
    },
    "kernelspec": {
      "name": "python3",
      "display_name": "Python 3"
    },
    "language_info": {
      "name": "python"
    }
  },
  "cells": [
    {
      "cell_type": "markdown",
      "source": [
        "##EDA on OneMax 🧼"
      ],
      "metadata": {
        "id": "4dirEUCXArVY"
      }
    },
    {
      "cell_type": "code",
      "source": [
        "import random"
      ],
      "metadata": {
        "id": "ztOgpMa0rKlc"
      },
      "execution_count": null,
      "outputs": []
    },
    {
      "cell_type": "code",
      "execution_count": null,
      "metadata": {
        "id": "KX-QXB52ocoQ"
      },
      "outputs": [],
      "source": [
        "goal = '11111'\n",
        "length = len(goal)\n",
        "populationSize = 6\n",
        "selectionRate = 0.5"
      ]
    },
    {
      "cell_type": "code",
      "source": [
        "def calc_fitness(population):\n",
        "  popWithFitness = []\n",
        "  #calculating\n",
        "  for string in population:\n",
        "    sum = 0\n",
        "    for bit in string:\n",
        "      sum += int(bit)\n",
        "    popWithFitness.append((string,sum))\n",
        "  #sorting\n",
        "  popWithFitnessSorted = sorted(popWithFitness, key = lambda x: x[1], reverse=True)\n",
        "  return popWithFitnessSorted"
      ],
      "metadata": {
        "id": "dS7mLKt0o1rz"
      },
      "execution_count": null,
      "outputs": []
    },
    {
      "cell_type": "code",
      "source": [
        "def rand_str(length):\n",
        "    string = \"\"\n",
        "    for i in range(length):\n",
        "        temp = str(random.randint(0, 1))\n",
        "        string += temp\n",
        "    return(string)"
      ],
      "metadata": {
        "id": "yy1_C6Bqq6jb"
      },
      "execution_count": null,
      "outputs": []
    },
    {
      "cell_type": "code",
      "source": [
        "def generate_population(populationSize):\n",
        "  population = []\n",
        "  for _ in range(populationSize):\n",
        "    population.append(rand_str(length))\n",
        "  return population"
      ],
      "metadata": {
        "id": "JqmhY6B8pWs6"
      },
      "execution_count": null,
      "outputs": []
    },
    {
      "cell_type": "code",
      "source": [
        "def selection(sortedPopulation, selectaionRate):\n",
        "  return sortedPopulation[0 : int(len(sortedPopulation) * selectaionRate)]"
      ],
      "metadata": {
        "id": "7MXef0Mv1JnX"
      },
      "execution_count": null,
      "outputs": []
    },
    {
      "cell_type": "code",
      "source": [
        "def generate_probability(population):\n",
        "  population = [string[0] for string in population] #remove fitness values\n",
        "  p = []\n",
        "  max = len(population)\n",
        "  string_length = len(population[0])\n",
        "  for bit_index in range(string_length):\n",
        "    sum = 0\n",
        "    for string in population:\n",
        "      sum += int(string[bit_index])\n",
        "    p.append(sum/max)\n",
        "  return p"
      ],
      "metadata": {
        "id": "pWtOvBpF2j8W"
      },
      "execution_count": null,
      "outputs": []
    },
    {
      "cell_type": "code",
      "source": [
        "def sampling(probability, populationSize):\n",
        "  population = []\n",
        "  for _ in range(populationSize):\n",
        "    string = ''\n",
        "    for p in probability:\n",
        "      string += '1' if random.random() < p else '0'\n",
        "    population.append(string)\n",
        "  return population"
      ],
      "metadata": {
        "id": "O5-sQvG952kQ"
      },
      "execution_count": null,
      "outputs": []
    },
    {
      "cell_type": "code",
      "source": [
        "population = generate_population(populationSize)\n",
        "population"
      ],
      "metadata": {
        "colab": {
          "base_uri": "https://localhost:8080/"
        },
        "id": "mjYOYRbLsKm0",
        "outputId": "ba8986e3-500c-477e-db69-94ba71241e82"
      },
      "execution_count": null,
      "outputs": [
        {
          "output_type": "execute_result",
          "data": {
            "text/plain": [
              "['00110', '10111', '00010', '11101', '01110', '00111']"
            ]
          },
          "metadata": {},
          "execution_count": 37
        }
      ]
    },
    {
      "cell_type": "code",
      "source": [
        "popWithFitness = calc_fitness(population)\n",
        "popWithFitness"
      ],
      "metadata": {
        "colab": {
          "base_uri": "https://localhost:8080/"
        },
        "id": "M2ZT8HfNsSj1",
        "outputId": "04db6562-076c-4be4-f71d-69a81b06c4a8"
      },
      "execution_count": null,
      "outputs": [
        {
          "output_type": "execute_result",
          "data": {
            "text/plain": [
              "[('10111', 4),\n",
              " ('11101', 4),\n",
              " ('01110', 3),\n",
              " ('00111', 3),\n",
              " ('00110', 2),\n",
              " ('00010', 1)]"
            ]
          },
          "metadata": {},
          "execution_count": 38
        }
      ]
    },
    {
      "cell_type": "code",
      "source": [
        "selectedPopulation = selection(popWithFitness, selectionRate)\n",
        "selectedPopulation"
      ],
      "metadata": {
        "colab": {
          "base_uri": "https://localhost:8080/"
        },
        "id": "Dnu4zydJ1gfN",
        "outputId": "778099ed-4933-47e8-88bf-36295e8e6398"
      },
      "execution_count": null,
      "outputs": [
        {
          "output_type": "execute_result",
          "data": {
            "text/plain": [
              "[('10111', 4), ('11101', 4), ('01110', 3)]"
            ]
          },
          "metadata": {},
          "execution_count": 39
        }
      ]
    },
    {
      "cell_type": "code",
      "source": [
        "p = generate_probability(selectedPopulation)\n",
        "p"
      ],
      "metadata": {
        "colab": {
          "base_uri": "https://localhost:8080/"
        },
        "id": "zqsHAurv5RbW",
        "outputId": "b7ae003a-c186-4e24-ea36-1e614da29f8a"
      },
      "execution_count": null,
      "outputs": [
        {
          "output_type": "execute_result",
          "data": {
            "text/plain": [
              "[0.6666666666666666,\n",
              " 0.6666666666666666,\n",
              " 1.0,\n",
              " 0.6666666666666666,\n",
              " 0.6666666666666666]"
            ]
          },
          "metadata": {},
          "execution_count": 40
        }
      ]
    },
    {
      "cell_type": "code",
      "source": [
        "newPopulation = sampling(p, populationSize)\n",
        "newPopulation"
      ],
      "metadata": {
        "colab": {
          "base_uri": "https://localhost:8080/"
        },
        "id": "zr-cxeKb7kzf",
        "outputId": "8fc4f90e-43bf-44b4-eb87-1150bf9b0133"
      },
      "execution_count": null,
      "outputs": [
        {
          "output_type": "execute_result",
          "data": {
            "text/plain": [
              "['10110', '11101', '11110', '11111', '01111', '10111']"
            ]
          },
          "metadata": {},
          "execution_count": 41
        }
      ]
    },
    {
      "cell_type": "markdown",
      "source": [
        "##Start the Algorithm"
      ],
      "metadata": {
        "id": "FqozpTttBPj6"
      }
    },
    {
      "cell_type": "code",
      "source": [
        "population = generate_population(populationSize)\n",
        "iterations = 1\n",
        "while iterations < 100:\n",
        "  print('---- ' + str(iterations) + ' ----')\n",
        "  popWithFitness = calc_fitness(population)\n",
        "  print(popWithFitness)\n",
        "  if (popWithFitness[0][0] == goal):\n",
        "    break\n",
        "  selectedPopulation = selection(popWithFitness, selectionRate)\n",
        "  p = generate_probability(selectedPopulation)\n",
        "  population = sampling(p, populationSize)\n",
        "  iterations += 1\n",
        "\n",
        "print('\\n')\n",
        "print('Iterations:', iterations)\n",
        "print('Population:', popWithFitness)"
      ],
      "metadata": {
        "colab": {
          "base_uri": "https://localhost:8080/"
        },
        "id": "HS-lICvQ9E74",
        "outputId": "347ee900-16c2-4c15-b6ca-d5a2b9612654"
      },
      "execution_count": null,
      "outputs": [
        {
          "output_type": "stream",
          "name": "stdout",
          "text": [
            "---- 1 ----\n",
            "[('11101', 4), ('10111', 4), ('11110', 4), ('01011', 3), ('10100', 2), ('10010', 2)]\n",
            "---- 2 ----\n",
            "[('11111', 5), ('11111', 5), ('11111', 5), ('11111', 5), ('11101', 4), ('11110', 4)]\n",
            "\n",
            "\n",
            "Iterations: 2\n",
            "Population: [('11111', 5), ('11111', 5), ('11111', 5), ('11111', 5), ('11101', 4), ('11110', 4)]\n"
          ]
        }
      ]
    }
  ]
}